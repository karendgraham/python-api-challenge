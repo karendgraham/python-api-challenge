{
 "cells": [
  {
   "cell_type": "code",
   "execution_count": 8,
   "metadata": {},
   "outputs": [],
   "source": [
    "# Dependencies\n",
    "import matplotlib.pyplot as plt\n",
    "import pandas as pd\n",
    "import numpy as np\n",
    "import requests \n",
    "import time\n",
    "\n",
    "# import API key\n",
    "from config import apikey\n",
    "\n",
    "# import citipy for latitude and longitude\n",
    "# from citipy import citipy \n",
    "# (I am not able to use citipy even though it says it was installed successfully\n",
    "# on my computer, Jupyter notebook won't recognize it. I think it has something to do with the fact that I have\n",
    "# to open Jupyter notebook with \"source\" and the citipy is saved in \"anaconda3\" but I don't know how to fix it.)\n",
    "\n",
    "#list of cities csv\n",
    "output_data_file = \"output_data.cities_list.csv\"\n",
    "\n",
    "# range of Latitude & Longitude\n",
    "lat_range = (-90, 90)\n",
    "lng_range = (-180, 180)\n",
    "\n",
    "# information for open weather data\n",
    "url = 'http://api.openweathermap.org/data/2.5/weather?'\n",
    "units = \"imperial\"\n",
    "\n",
    "# partial query url\n",
    "query_url = f\"{url}appid={apikey}&units={units}&q=\"\n"
   ]
  },
  {
   "cell_type": "code",
   "execution_count": 9,
   "metadata": {},
   "outputs": [],
   "source": [
    "# Lists for holding responses\n",
    "city = []\n",
    "lat = []\n",
    "temp = []\n",
    "humid = []\n",
    "wind = []\n",
    "clouds = []\n",
    "\n",
    "# Set date for API call\n",
    "current_date = datetime.now()\n",
    "date_of_api = current_date\n",
    "\n",
    "# Run request and convert to JSON\n",
    "response = request.get(query_url + city).json()\n",
    "\n"
   ]
  },
  {
   "cell_type": "code",
   "execution_count": null,
   "metadata": {},
   "outputs": [],
   "source": [
    "# Scatter Plot: Temperature(F) vs latitude\n",
    "# Maximum value for Temperature will be 150\n",
    "x_limit = 150\n",
    "# List of values, each being greater than the last\n",
    "x_axis = np.arange(0, x_limit, 1)\n",
    "# Create Data to be used in y (latitude) axis\n",
    "y_limit = (-90, 90)\n",
    "\n",
    "# Scatter plot\n",
    "plt.scatter(x_axis, x_limit, y_limit marker=\"o\", facecolors=\"purple\", edgecolors=\"black\")"
   ]
  },
  {
   "cell_type": "code",
   "execution_count": null,
   "metadata": {},
   "outputs": [],
   "source": [
    "# Scatter Plot: Humidity(%) vs Latitude\n",
    "plt.title(\"Humidity vs. Latitude\")\n",
    "# Maximum Value for Humidity will be 100\n",
    "x_limit = 100\n",
    "# list of values, each being greater than the last\n",
    "x_axis = np.arange(0, x_limit, 1)\n",
    "# Create Data to be used in y (latitude) axis\n",
    "y_limit = (-90, 90)\n",
    "\n",
    "# Scatter plot\n",
    "plt.scatter(x_axis, x_limit, y_limit, marker=\"o\", facecolors=\"purple\", edgecolors=\"black\")"
   ]
  },
  {
   "cell_type": "code",
   "execution_count": null,
   "metadata": {},
   "outputs": [],
   "source": [
    "#Scatter Plot: Wind Speed (mph) vs Latitude\n",
    "plt.title(\"Wind Speed (mph) vs. Latitude\")\n",
    "# Maximum value for wind speed will be 80 mph\n",
    "x_limit = 80\n",
    "# List of values, each being greater than the last\n",
    "x_axis = np.arange(0, x_limit, 1)\n",
    "# Create Data to be used in y (latitude) axis\n",
    "y_limit = (-90, 90)\n",
    "\n",
    "#Scatter plot\n",
    "plt.scatter(x_axis, x_limit, y_limit, marker=\"o\", facecolors=\"purple\", edgecolors=\"black\")"
   ]
  },
  {
   "cell_type": "code",
   "execution_count": null,
   "metadata": {},
   "outputs": [],
   "source": [
    "# Scatter Plot: Cloudiness(%) vs Latitude\n",
    "plt.title(\"Cloudiness vs. Latitude\")\n",
    "# Maximum Value for Humidity will be 100\n",
    "x_limit = 100\n",
    "# list of values, each being greater than the last\n",
    "x_axis = np.arange(0, x_limit, 1)\n",
    "# Create Data to be used in y (latitude) axis\n",
    "y_limit = (-90, 90)\n",
    "\n",
    "plt.scatter(x_axis, x_limit, y_limit, marker=\"o\", facecolors=\"purple\", edgecolors=\"black\")"
   ]
  }
 ],
 "metadata": {
  "kernelspec": {
   "display_name": "Python 3",
   "language": "python",
   "name": "python3"
  },
  "language_info": {
   "codemirror_mode": {
    "name": "ipython",
    "version": 3
   },
   "file_extension": ".py",
   "mimetype": "text/x-python",
   "name": "python",
   "nbconvert_exporter": "python",
   "pygments_lexer": "ipython3",
   "version": "3.6.8"
  }
 },
 "nbformat": 4,
 "nbformat_minor": 2
}
